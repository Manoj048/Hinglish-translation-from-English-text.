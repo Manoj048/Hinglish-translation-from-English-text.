{
  "nbformat": 4,
  "nbformat_minor": 0,
  "metadata": {
    "colab": {
      "provenance": []
    },
    "kernelspec": {
      "name": "python3",
      "display_name": "Python 3"
    },
    "language_info": {
      "name": "python"
    }
  },
  "cells": [
    {
      "cell_type": "code",
      "source": [
        "!pip install deep_translator"
      ],
      "metadata": {
        "colab": {
          "base_uri": "https://localhost:8080/"
        },
        "id": "K1eMgTOoYLjQ",
        "outputId": "a91aebf9-539d-4785-c70d-3ed88336ba2e"
      },
      "execution_count": 5,
      "outputs": [
        {
          "output_type": "stream",
          "name": "stdout",
          "text": [
            "Requirement already satisfied: deep_translator in /usr/local/lib/python3.10/dist-packages (1.11.4)\n",
            "Requirement already satisfied: beautifulsoup4<5.0.0,>=4.9.1 in /usr/local/lib/python3.10/dist-packages (from deep_translator) (4.11.2)\n",
            "Requirement already satisfied: requests<3.0.0,>=2.23.0 in /usr/local/lib/python3.10/dist-packages (from deep_translator) (2.31.0)\n",
            "Requirement already satisfied: soupsieve>1.2 in /usr/local/lib/python3.10/dist-packages (from beautifulsoup4<5.0.0,>=4.9.1->deep_translator) (2.4.1)\n",
            "Requirement already satisfied: charset-normalizer<4,>=2 in /usr/local/lib/python3.10/dist-packages (from requests<3.0.0,>=2.23.0->deep_translator) (3.2.0)\n",
            "Requirement already satisfied: idna<4,>=2.5 in /usr/local/lib/python3.10/dist-packages (from requests<3.0.0,>=2.23.0->deep_translator) (3.4)\n",
            "Requirement already satisfied: urllib3<3,>=1.21.1 in /usr/local/lib/python3.10/dist-packages (from requests<3.0.0,>=2.23.0->deep_translator) (2.0.4)\n",
            "Requirement already satisfied: certifi>=2017.4.17 in /usr/local/lib/python3.10/dist-packages (from requests<3.0.0,>=2.23.0->deep_translator) (2023.7.22)\n"
          ]
        }
      ]
    },
    {
      "cell_type": "code",
      "source": [
        "nltk.download('stopwords')"
      ],
      "metadata": {
        "colab": {
          "base_uri": "https://localhost:8080/"
        },
        "id": "14_Cjcm5sCdJ",
        "outputId": "4e807ad8-54bc-473f-d223-1d60d6753689"
      },
      "execution_count": 7,
      "outputs": [
        {
          "output_type": "stream",
          "name": "stderr",
          "text": [
            "[nltk_data] Downloading package stopwords to /root/nltk_data...\n",
            "[nltk_data]   Unzipping corpora/stopwords.zip.\n"
          ]
        },
        {
          "output_type": "execute_result",
          "data": {
            "text/plain": [
              "True"
            ]
          },
          "metadata": {},
          "execution_count": 7
        }
      ]
    },
    {
      "cell_type": "code",
      "source": [
        "from deep_translator import GoogleTranslator\n",
        "import nltk\n",
        "from nltk.corpus import stopwords\n",
        "from nltk.tokenize import word_tokenize\n",
        "stop_words = set(stopwords.words('english'))\n",
        "def hinglish_translation(text):\n",
        "    translator=GoogleTranslator(source='auto', target='hi')\n",
        "    translated_text=translator.translate(text)\n",
        "    word_tokens = word_tokenize(text)\n",
        "    filtered_sentence = [w for w in word_tokens if not w.lower() in stop_words]\n",
        "    number_removal=[i for i in filtered_sentence if i.isalpha()]\n",
        "    text_translation=[]\n",
        "    for i in number_removal:\n",
        "        text_translation.append(translator.translate(i))\n",
        "\n",
        "    for b,i in enumerate(text_translation):\n",
        "        if i in translated_text:\n",
        "            translated_text=translated_text.replace(i, number_removal[b])\n",
        "\n",
        "    return translated_text"
      ],
      "metadata": {
        "id": "Tww96juXrz5u"
      },
      "execution_count": 8,
      "outputs": []
    },
    {
      "cell_type": "code",
      "source": [
        "nltk.download('punkt')"
      ],
      "metadata": {
        "colab": {
          "base_uri": "https://localhost:8080/"
        },
        "id": "Tpe9GDg_Z3Ey",
        "outputId": "5906be97-f382-441b-c64b-21f1284d72eb"
      },
      "execution_count": 9,
      "outputs": [
        {
          "output_type": "stream",
          "name": "stderr",
          "text": [
            "[nltk_data] Downloading package punkt to /root/nltk_data...\n",
            "[nltk_data]   Unzipping tokenizers/punkt.zip.\n"
          ]
        },
        {
          "output_type": "execute_result",
          "data": {
            "text/plain": [
              "True"
            ]
          },
          "metadata": {},
          "execution_count": 9
        }
      ]
    },
    {
      "cell_type": "code",
      "source": [
        "from deep_translator import GoogleTranslator\n",
        "import nltk\n",
        "from nltk.corpus import stopwords\n",
        "from nltk.tokenize import word_tokenize\n",
        "stop_words = set(stopwords.words('english'))\n",
        "\n",
        "def english_translation(text):\n",
        "    translator1=GoogleTranslator(source='auto', target='en')\n",
        "    translated_text1=translator1.translate(text)\n",
        "    return translated_text1\n",
        "def hinglish_translation(text):\n",
        "    translator=GoogleTranslator(source='auto', target='hi')\n",
        "    translated_text=translator.translate(text)\n",
        "    word_tokens = word_tokenize(text)\n",
        "    filtered_sentence = [w for w in word_tokens if not w.lower() in stop_words]\n",
        "    number_removal=[i for i in filtered_sentence if i.isalpha()]\n",
        "    text_translation=[]\n",
        "    for i in number_removal:\n",
        "        text_translation.append(translator.translate(i))\n",
        "\n",
        "    for b,i in enumerate(text_translation):\n",
        "        if i in translated_text:\n",
        "            translated_text=translated_text.replace(i, number_removal[b])\n",
        "\n",
        "    return translated_text\n",
        "def final(text):\n",
        "    translated_text1=hinglish_translation(text)\n",
        "    english_translated=english_translation(translated_text1)\n",
        "    translated_text2=hinglish_translation(english_translated)\n",
        "    return translated_text2"
      ],
      "metadata": {
        "id": "JikP5gvGekM7"
      },
      "execution_count": 10,
      "outputs": []
    },
    {
      "cell_type": "code",
      "source": [
        "final(\"Definitely share your feedback in the comment section\")"
      ],
      "metadata": {
        "colab": {
          "base_uri": "https://localhost:8080/",
          "height": 36
        },
        "id": "tnwmchITg6RW",
        "outputId": "4e2b9971-c4eb-4f92-d9b1-5c7cfea75d21"
      },
      "execution_count": 11,
      "outputs": [
        {
          "output_type": "execute_result",
          "data": {
            "text/plain": [
              "'अपनी feedback comment section में अवश्य साझा करें'"
            ],
            "application/vnd.google.colaboratory.intrinsic+json": {
              "type": "string"
            }
          },
          "metadata": {},
          "execution_count": 11
        }
      ]
    },
    {
      "cell_type": "code",
      "source": [
        "final(\"So even if it's a big video, I will clearly mention all the products\")"
      ],
      "metadata": {
        "colab": {
          "base_uri": "https://localhost:8080/",
          "height": 36
        },
        "id": "_RxeclY6hs3S",
        "outputId": "c042ba65-6976-457a-accb-59763e9c09f2"
      },
      "execution_count": 12,
      "outputs": [
        {
          "output_type": "execute_result",
          "data": {
            "text/plain": [
              "'इसलिए भले ही यह एक big video है, मैं clearly सभी products का mention करूंगा'"
            ],
            "application/vnd.google.colaboratory.intrinsic+json": {
              "type": "string"
            }
          },
          "metadata": {},
          "execution_count": 12
        }
      ]
    },
    {
      "cell_type": "code",
      "source": [
        "final(\"I was waiting for my bag.\")"
      ],
      "metadata": {
        "colab": {
          "base_uri": "https://localhost:8080/",
          "height": 36
        },
        "id": "WaF69AF3iPzX",
        "outputId": "0abcb9c6-a7a3-428e-bee2-f033c0edb8d2"
      },
      "execution_count": 13,
      "outputs": [
        {
          "output_type": "execute_result",
          "data": {
            "text/plain": [
              "'मैं अपने बैग का इंतज़ार कर रहा था.'"
            ],
            "application/vnd.google.colaboratory.intrinsic+json": {
              "type": "string"
            }
          },
          "metadata": {},
          "execution_count": 13
        }
      ]
    },
    {
      "cell_type": "code",
      "source": [
        "final(\"I had about a 30 minute demo just using this new headset\")"
      ],
      "metadata": {
        "colab": {
          "base_uri": "https://localhost:8080/",
          "height": 36
        },
        "id": "REMoIAlpsgvu",
        "outputId": "5630b0e3-ed6e-43be-a676-70cdfb5a2e0d"
      },
      "execution_count": 14,
      "outputs": [
        {
          "output_type": "execute_result",
          "data": {
            "text/plain": [
              "'मैंने इस नए headset का उपयोग करके लगभग 30 minutes का demo took'"
            ],
            "application/vnd.google.colaboratory.intrinsic+json": {
              "type": "string"
            }
          },
          "metadata": {},
          "execution_count": 14
        }
      ]
    },
    {
      "cell_type": "code",
      "source": [],
      "metadata": {
        "id": "ZTMgrZTbuBcW"
      },
      "execution_count": null,
      "outputs": []
    }
  ]
}